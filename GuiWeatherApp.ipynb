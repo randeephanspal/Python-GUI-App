{
 "cells": [
  {
   "cell_type": "code",
   "execution_count": 71,
   "metadata": {},
   "outputs": [],
   "source": [
    "import tkinter as tk\n",
    "from tkinter import Menu\n",
    "from tkinter import ttk\n",
    "from datetime import datetime\n",
    "from urllib.request import urlopen\n",
    "import json"
   ]
  },
  {
   "cell_type": "code",
   "execution_count": 72,
   "metadata": {},
   "outputs": [
    {
     "data": {
      "text/plain": [
       "''"
      ]
     },
     "execution_count": 72,
     "metadata": {},
     "output_type": "execute_result"
    }
   ],
   "source": [
    "win = tk.Tk()\n",
    "win.title(\"Python Project\")"
   ]
  },
  {
   "cell_type": "code",
   "execution_count": 73,
   "metadata": {},
   "outputs": [],
   "source": [
    "#Exit GUI function\n",
    "def quit():\n",
    "    win.quit()\n",
    "    win.destroy()\n",
    "    exit()"
   ]
  },
  {
   "cell_type": "code",
   "execution_count": 74,
   "metadata": {},
   "outputs": [],
   "source": [
    "#creating a Menu bar\n",
    "menuBar=Menu()\n",
    "win.config(menu=menuBar)\n",
    "\n",
    "#Add Menu items\n",
    "fileMenu = Menu(menuBar,tearoff=0)\n",
    "fileMenu.add_command(label=\"New\")\n",
    "fileMenu.add_separator()\n",
    "fileMenu.add_command(label=\"Exit\", command=quit)\n",
    "menuBar.add_cascade(label=\"File\",menu=fileMenu)\n",
    "\n",
    "#Add another Menu\n",
    "helpMenu = Menu(menuBar,tearoff=0)\n",
    "helpMenu.add_command(label=\"About\")\n",
    "menuBar.add_cascade(label=\"Help\", menu=helpMenu)\n",
    "\n",
    "# TAb control\n",
    "tabControl = ttk.Notebook(win)\n",
    "\n",
    "tab1 = ttk.Frame(tabControl)\n",
    "tabControl.add(tab1, text='OpenWeatherMap')\n",
    "\n",
    "tabControl.pack(expand=1)"
   ]
  },
  {
   "cell_type": "code",
   "execution_count": 75,
   "metadata": {},
   "outputs": [],
   "source": [
    "#create a container to hold all other widgets\n",
    "weather_conditions_frame= ttk.LabelFrame(tab1, text='Current Weather Conditions')\n",
    "\n",
    "#using tkinter grid layout manager\n",
    "weather_conditions_frame.grid_configure(column=0, row=1, padx=8, pady=4)\n",
    "\n",
    "#adding new labelframe\n",
    "open_weather_cities_frame = ttk.LabelFrame(tab1, text=' Latest Observation for ')\n",
    "open_weather_cities_frame.grid_configure(column=0, row=0, padx=8, pady=4)\n",
    "\n",
    "#place label and combobox into new frame\n",
    "ttk.Label(open_weather_cities_frame, text=\"Location: \").grid(column=0, row=0,sticky='W')"
   ]
  },
  {
   "cell_type": "code",
   "execution_count": 76,
   "metadata": {},
   "outputs": [
    {
     "data": {
      "text/plain": [
       "''"
      ]
     },
     "execution_count": 76,
     "metadata": {},
     "output_type": "execute_result"
    }
   ],
   "source": [
    "#Add combobox\n",
    "city = tk.StringVar()\n",
    "station_id_combo = ttk.Combobox(open_weather_cities_frame, width=16, textvariable=city)\n",
    "station_id_combo['values']=('Los Angeles, US','London, UK','Paris, FR','Mumbai, IN', 'Texas, US')\n",
    "station_id_combo.grid(column=1, row=0)\n",
    "#selecting first city\n",
    "station_id_combo.current(0)"
   ]
  },
  {
   "cell_type": "code",
   "execution_count": 77,
   "metadata": {},
   "outputs": [],
   "source": [
    "#increase combobox width to longest city\n",
    "max_width = max([len(x) for x in station_id_combo['values']])\n",
    "ENTRY_WIDTH = max_width + 3"
   ]
  },
  {
   "cell_type": "code",
   "execution_count": 78,
   "metadata": {},
   "outputs": [],
   "source": [
    "# Add label and Textbox entry widgets\n",
    "#-------------------------------------------------------------------------------------\n",
    "ttk.Label(weather_conditions_frame, text=\"Last Updated:\").grid(column=0, row=1, sticky='E')\n",
    "open_updated = tk.StringVar()\n",
    "updatedEntry = ttk.Entry(weather_conditions_frame,width=ENTRY_WIDTH,textvariable=open_updated,\n",
    "                         state='readonly')\n",
    "updatedEntry.grid(column=1,row=1,sticky='W')\n",
    "#-------------------------------------------------------------------------------------\n",
    "ttk.Label(weather_conditions_frame, text=\"Weather:\").grid(column=0, row=2, sticky='E')\n",
    "open_weather = tk.StringVar()\n",
    "weatherEntry = ttk.Entry(weather_conditions_frame,width=ENTRY_WIDTH,textvariable=open_weather,\n",
    "                         state='readonly')\n",
    "weatherEntry.grid(column=1,row=2,sticky='W')\n",
    "#-------------------------------------------------------------------------------------\n",
    "ttk.Label(weather_conditions_frame, text=\"Temperature:\").grid(column=0, row=3, sticky='E')\n",
    "open_temp = tk.StringVar()\n",
    "tempEntry = ttk.Entry(weather_conditions_frame,width=ENTRY_WIDTH,textvariable=open_temp,state='readonly')\n",
    "tempEntry.grid(column=1,row=3,sticky='W')\n",
    "#-------------------------------------------------------------------------------------\n",
    "ttk.Label(weather_conditions_frame, text=\"Relative Humidity:\").grid(column=0, row=4, sticky='E')\n",
    "open_rel_humi = tk.StringVar()\n",
    "humiEntry = ttk.Entry(weather_conditions_frame,width=ENTRY_WIDTH,textvariable=open_rel_humi,state='readonly')\n",
    "humiEntry.grid(column=1,row=4,sticky='W')\n",
    "#-------------------------------------------------------------------------------------\n",
    "ttk.Label(weather_conditions_frame, text=\"Wind:\").grid(column=0, row=5, sticky='E')\n",
    "open_wind = tk.StringVar()\n",
    "tempWind = ttk.Entry(weather_conditions_frame,width=ENTRY_WIDTH,textvariable=open_wind,state='readonly')\n",
    "tempWind.grid(column=1,row=5,sticky='W')\n",
    "#-------------------------------------------------------------------------------------\n",
    "ttk.Label(weather_conditions_frame, text=\"Visibility:\").grid(column=0, row=6, sticky='E')\n",
    "open_visi = tk.StringVar()\n",
    "tempWind = ttk.Entry(weather_conditions_frame,width=ENTRY_WIDTH,textvariable=open_visi,state='readonly')\n",
    "tempWind.grid(column=1,row=6,sticky='W')\n",
    "#-------------------------------------------------------------------------------------\n",
    "ttk.Label(weather_conditions_frame, text=\"Pressure:\").grid(column=0, row=7, sticky='E')\n",
    "open_msl = tk.StringVar()\n",
    "tempWind = ttk.Entry(weather_conditions_frame,width=ENTRY_WIDTH,textvariable=open_msl,state='readonly')\n",
    "tempWind.grid(column=1,row=7,sticky='W')\n",
    "#-------------------------------------------------------------------------------------\n",
    "ttk.Label(weather_conditions_frame, text=\"Sunrise:\").grid(column=0, row=8, sticky='E')\n",
    "sunrise = tk.StringVar()\n",
    "sunriseEntry = ttk.Entry(weather_conditions_frame,width=ENTRY_WIDTH,textvariable=sunrise,state='readonly')\n",
    "sunriseEntry.grid(column=1,row=8,sticky='W')\n",
    "#-------------------------------------------------------------------------------------\n",
    "ttk.Label(weather_conditions_frame, text=\"Sunset:\").grid(column=0, row=9, sticky='E')\n",
    "sunset = tk.StringVar()\n",
    "sunsetEntry = ttk.Entry(weather_conditions_frame,width=ENTRY_WIDTH,textvariable=sunset,state='readonly')\n",
    "sunsetEntry.grid(column=1,row=9,sticky='W')\n",
    "\n",
    "# Station City label\n",
    "open_location = tk.StringVar()\n",
    "ttk.Label(open_weather_cities_frame, textvariable=open_location).grid(column=0, row=1, columnspan=3)\n"
   ]
  },
  {
   "cell_type": "code",
   "execution_count": 79,
   "metadata": {},
   "outputs": [],
   "source": [
    "#adding space aroung each label\n",
    "for child in weather_conditions_frame.winfo_children():\n",
    "    child.grid_configure(padx=4, pady=2)\n",
    "\n",
    "# key to access Openweathermap API\n",
    "OWM_API_KEY = '1d27e8fe23707f4b121cac66598dceec'"
   ]
  },
  {
   "cell_type": "code",
   "execution_count": 80,
   "metadata": {},
   "outputs": [],
   "source": [
    "def get_open_weather_data(city='London, UK'):\n",
    "    city = city.replace(' ', '%20')\n",
    "    url = 'http://api.openweathermap.org/data/2.5/weather?q={}&appid={}'.format(city,OWM_API_KEY)\n",
    "    response = urlopen(url)\n",
    "    data = response.read().decode()\n",
    "    json_data = json.loads(data)\n",
    "\n",
    "    lat_long = json_data['coord']\n",
    "    lastupdate_unix = json_data['dt']\n",
    "    city_id = json_data['id']\n",
    "    humidity = json_data['main']['humidity']\n",
    "    pressure = json_data['main']['pressure']\n",
    "    temp_kelvin = json_data['main']['temp']\n",
    "    city_name = json_data['name']\n",
    "    city_country = json_data['sys']['country']\n",
    "    sunrise_unix = json_data['sys']['sunrise']\n",
    "    sunset_unix = json_data['sys']['sunset']\n",
    "    try:\n",
    "        visibility_meter = json_data['visibility']\n",
    "    except:\n",
    "        visibility_meter = 'N/A'\n",
    "    own_weather = json_data['weather'][0]['description']\n",
    "    weather_icon = json_data['weather'][0]['icon']\n",
    "    win_degree = json_data['wind']['speed']\n",
    "\n",
    "    # function to covert kelvin to celsius\n",
    "    def kelvin_to_celsius(temp_k):\n",
    "        return (\"{:.1f}\".format(temp_k - 273.15))\n",
    "\n",
    "    # function to covert kelvin to fahrenheit\n",
    "    def kelvin_to_fahrenheit(temp_k):\n",
    "        return (\"{:.1f}\".format((temp_k - 273.15) * 1.8000 + 32.00))\n",
    "\n",
    "    # function to covert unix time\n",
    "    def unix_to_datetime(unix_time):\n",
    "        return datetime.fromtimestamp(int(unix_time)).strftime('%Y-%m-%d %H:%M:%S')\n",
    "\n",
    "    # function to convert meter to miles\n",
    "    def meter_to_miles(meter):\n",
    "        return \"{:.2f}\".format((meter * 0.00062137))\n",
    "\n",
    "    if visibility_meter is 'N/A':\n",
    "        visibility_miles = 'N/A'\n",
    "    else:\n",
    "        visibility_miles = meter_to_miles(visibility_meter)\n",
    "\n",
    "    # function to convert meter per sec to miles per hour\n",
    "    def mps_to_mph(meter_second):\n",
    "        return \"{:.1f}\".format((meter_second * 2.23693629))\n",
    "    \n",
    "    # Update GUI entry widgets with live data\n",
    "\n",
    "    open_location.set('{}, {}'.format(city_name, city_country))\n",
    "\n",
    "    lastupdate = unix_to_datetime(lastupdate_unix)\n",
    "    open_updated.set(lastupdate)\n",
    "    open_weather.set(own_weather)\n",
    "    temp_fahr = kelvin_to_fahrenheit(temp_kelvin)\n",
    "    temp_cels = kelvin_to_celsius(temp_kelvin)\n",
    "    open_temp.set('{} \\xb0F ({} \\xb0C)'.format(temp_fahr,temp_cels))\n",
    "    open_rel_humi.set('{} %'.format(humidity))\n",
    "\n",
    "    wind_speed_mph = mps_to_mph(win_degree)\n",
    "    open_wind.set('{} degress at {} MPH'.format(win_degree,wind_speed_mph))\n",
    "\n",
    "    open_visi.set('{} miles'.format(visibility_miles))\n",
    "    open_msl.set('{} hPa'.format(pressure))\n",
    "\n",
    "    sunrise_dt = unix_to_datetime(sunrise_unix)\n",
    "    sunrise.set(sunrise_dt)\n",
    "\n",
    "    sunset_dt = unix_to_datetime(sunset_unix)\n",
    "    sunset.set(sunset_dt)"
   ]
  },
  {
   "cell_type": "code",
   "execution_count": 81,
   "metadata": {},
   "outputs": [],
   "source": [
    "# callback function\n",
    "def get_station():\n",
    "    station = station_id_combo.get()\n",
    "    get_open_weather_data(station)\n",
    "\n",
    "get_weather_btn = ttk.Button(open_weather_cities_frame, text='Get Weather', command=get_station).grid(column=2,row=0)\n"
   ]
  },
  {
   "cell_type": "code",
   "execution_count": 82,
   "metadata": {},
   "outputs": [],
   "source": [
    "# start GUI\n",
    "win.mainloop()"
   ]
  }
 ],
 "metadata": {
  "kernelspec": {
   "display_name": "Python 3",
   "language": "python",
   "name": "python3"
  },
  "language_info": {
   "codemirror_mode": {
    "name": "ipython",
    "version": 3
   },
   "file_extension": ".py",
   "mimetype": "text/x-python",
   "name": "python",
   "nbconvert_exporter": "python",
   "pygments_lexer": "ipython3",
   "version": "3.6.5"
  }
 },
 "nbformat": 4,
 "nbformat_minor": 2
}
